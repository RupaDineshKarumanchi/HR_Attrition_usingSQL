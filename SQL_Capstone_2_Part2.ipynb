{
 "cells": [
  {
   "cell_type": "code",
   "execution_count": 62,
   "id": "acb02948-b546-4f14-bb92-02f562be66a5",
   "metadata": {},
   "outputs": [],
   "source": [
    "import pandas as pd\n",
    "import numpy as np\n",
    "import matplotlib.pyplot as plt\n",
    "import seaborn as sns"
   ]
  },
  {
   "cell_type": "code",
   "execution_count": 63,
   "id": "db1b1921-d5b2-4410-87ac-71cd0246c628",
   "metadata": {},
   "outputs": [],
   "source": [
    "df = pd.read_csv(\"SQL_Capstone2.csv\")"
   ]
  },
  {
   "cell_type": "code",
   "execution_count": 64,
   "id": "4641f1dc-2973-4bf3-84b5-0e1cd788631d",
   "metadata": {},
   "outputs": [
    {
     "data": {
      "text/plain": [
       "Index(['Age', 'Attrition', 'BusinessTravel', 'DailyRate', 'Department',\n",
       "       'DistanceFromHome', 'Education', 'EducationField', 'EmployeeCount',\n",
       "       'EmployeeNumber', 'EnvironmentSatisfaction', 'Gender', 'HourlyRate',\n",
       "       'JobInvolvement', 'JobLevel', 'JobRole', 'JobSatisfaction',\n",
       "       'MaritalStatus', 'MonthlyIncome', 'MonthlyRate', 'NumCompaniesWorked',\n",
       "       'Over18', 'OverTime', 'PercentSalaryHike', 'PerformanceRating',\n",
       "       'RelationshipSatisfaction', 'StandardHours', 'StockOptionLevel',\n",
       "       'TotalWorkingYears', 'TrainingTimesLastYear', 'WorkLifeBalance',\n",
       "       'YearsAtCompany', 'YearsInCurrentRole', 'YearsSinceLastPromotion',\n",
       "       'YearsWithCurrManager'],\n",
       "      dtype='object')"
      ]
     },
     "execution_count": 64,
     "metadata": {},
     "output_type": "execute_result"
    }
   ],
   "source": [
    "df.columns"
   ]
  },
  {
   "cell_type": "code",
   "execution_count": 65,
   "id": "b787887a-f3e3-4854-9b8e-96f9bca14a5d",
   "metadata": {},
   "outputs": [],
   "source": [
    "attrition_data = [\n",
    "    ['True', (df['Attrition'] == 'Yes').mean() * 100],\n",
    "    ['False', (df['Attrition'] == 'No').mean() * 100]\n",
    "]"
   ]
  },
  {
   "cell_type": "code",
   "execution_count": 66,
   "id": "be510b6f-46b2-4797-9e9b-d47aa116d23f",
   "metadata": {},
   "outputs": [],
   "source": [
    "attrition_df = pd.DataFrame(attrition_data, columns = ['Attrition','Attrition_Rate'])"
   ]
  },
  {
   "cell_type": "code",
   "execution_count": 67,
   "id": "e16b16d3-166b-4fa6-9a72-3e55d6817175",
   "metadata": {},
   "outputs": [
    {
     "data": {
      "text/html": [
       "<div>\n",
       "<style scoped>\n",
       "    .dataframe tbody tr th:only-of-type {\n",
       "        vertical-align: middle;\n",
       "    }\n",
       "\n",
       "    .dataframe tbody tr th {\n",
       "        vertical-align: top;\n",
       "    }\n",
       "\n",
       "    .dataframe thead th {\n",
       "        text-align: right;\n",
       "    }\n",
       "</style>\n",
       "<table border=\"1\" class=\"dataframe\">\n",
       "  <thead>\n",
       "    <tr style=\"text-align: right;\">\n",
       "      <th></th>\n",
       "      <th>Attrition</th>\n",
       "      <th>Attrition_Rate</th>\n",
       "    </tr>\n",
       "  </thead>\n",
       "  <tbody>\n",
       "    <tr>\n",
       "      <th>0</th>\n",
       "      <td>True</td>\n",
       "      <td>16.122449</td>\n",
       "    </tr>\n",
       "    <tr>\n",
       "      <th>1</th>\n",
       "      <td>False</td>\n",
       "      <td>83.877551</td>\n",
       "    </tr>\n",
       "  </tbody>\n",
       "</table>\n",
       "</div>"
      ],
      "text/plain": [
       "  Attrition  Attrition_Rate\n",
       "0      True       16.122449\n",
       "1     False       83.877551"
      ]
     },
     "execution_count": 67,
     "metadata": {},
     "output_type": "execute_result"
    }
   ],
   "source": [
    "attrition_df"
   ]
  },
  {
   "cell_type": "markdown",
   "id": "a4edafb6-d8a6-4000-bb2a-23e8091ba5f7",
   "metadata": {},
   "source": [
    "This is the data distribution of the attrition in the dataset."
   ]
  },
  {
   "cell_type": "code",
   "execution_count": 68,
   "id": "402d08ea-b307-48ae-b406-f4e885fca147",
   "metadata": {},
   "outputs": [],
   "source": [
    "total_emp = len(df)"
   ]
  },
  {
   "cell_type": "code",
   "execution_count": 69,
   "id": "1fb534ec-d4c8-4401-a47c-593ccbfd9c71",
   "metadata": {},
   "outputs": [],
   "source": [
    "attrition_gender = df.groupby(['Attrition','Gender']).size().reset_index(name='Count_Gender')"
   ]
  },
  {
   "cell_type": "code",
   "execution_count": 70,
   "id": "1875f254-71be-4935-8fc2-5ff4ed665985",
   "metadata": {},
   "outputs": [],
   "source": [
    "attrition_gender['Attrition_by_Gender'] = round(attrition_gender['Count_Gender'] / total_emp * 100,2)"
   ]
  },
  {
   "cell_type": "code",
   "execution_count": 71,
   "id": "9a18e755-243f-4f1e-8989-e4d4eb871a3a",
   "metadata": {},
   "outputs": [
    {
     "data": {
      "text/html": [
       "<div>\n",
       "<style scoped>\n",
       "    .dataframe tbody tr th:only-of-type {\n",
       "        vertical-align: middle;\n",
       "    }\n",
       "\n",
       "    .dataframe tbody tr th {\n",
       "        vertical-align: top;\n",
       "    }\n",
       "\n",
       "    .dataframe thead th {\n",
       "        text-align: right;\n",
       "    }\n",
       "</style>\n",
       "<table border=\"1\" class=\"dataframe\">\n",
       "  <thead>\n",
       "    <tr style=\"text-align: right;\">\n",
       "      <th></th>\n",
       "      <th>Attrition</th>\n",
       "      <th>Gender</th>\n",
       "      <th>Count_Gender</th>\n",
       "      <th>Attrition_by_Gender</th>\n",
       "    </tr>\n",
       "  </thead>\n",
       "  <tbody>\n",
       "    <tr>\n",
       "      <th>0</th>\n",
       "      <td>No</td>\n",
       "      <td>Female</td>\n",
       "      <td>501</td>\n",
       "      <td>34.08</td>\n",
       "    </tr>\n",
       "    <tr>\n",
       "      <th>1</th>\n",
       "      <td>No</td>\n",
       "      <td>Male</td>\n",
       "      <td>732</td>\n",
       "      <td>49.80</td>\n",
       "    </tr>\n",
       "    <tr>\n",
       "      <th>2</th>\n",
       "      <td>Yes</td>\n",
       "      <td>Female</td>\n",
       "      <td>87</td>\n",
       "      <td>5.92</td>\n",
       "    </tr>\n",
       "    <tr>\n",
       "      <th>3</th>\n",
       "      <td>Yes</td>\n",
       "      <td>Male</td>\n",
       "      <td>150</td>\n",
       "      <td>10.20</td>\n",
       "    </tr>\n",
       "  </tbody>\n",
       "</table>\n",
       "</div>"
      ],
      "text/plain": [
       "  Attrition  Gender  Count_Gender  Attrition_by_Gender\n",
       "0        No  Female           501                34.08\n",
       "1        No    Male           732                49.80\n",
       "2       Yes  Female            87                 5.92\n",
       "3       Yes    Male           150                10.20"
      ]
     },
     "execution_count": 71,
     "metadata": {},
     "output_type": "execute_result"
    }
   ],
   "source": [
    "attrition_gender"
   ]
  },
  {
   "cell_type": "markdown",
   "id": "7fa922b8-ccd9-41c1-881d-667d1c149889",
   "metadata": {},
   "source": [
    "The above dataframe shows the distribution of attrition based on the genders."
   ]
  },
  {
   "cell_type": "code",
   "execution_count": 72,
   "id": "f0d5c7e4-bcd1-43e7-beea-440e801d5a0e",
   "metadata": {
    "scrolled": true
   },
   "outputs": [
    {
     "data": {
      "text/html": [
       "<div>\n",
       "<style scoped>\n",
       "    .dataframe tbody tr th:only-of-type {\n",
       "        vertical-align: middle;\n",
       "    }\n",
       "\n",
       "    .dataframe tbody tr th {\n",
       "        vertical-align: top;\n",
       "    }\n",
       "\n",
       "    .dataframe thead th {\n",
       "        text-align: right;\n",
       "    }\n",
       "</style>\n",
       "<table border=\"1\" class=\"dataframe\">\n",
       "  <thead>\n",
       "    <tr style=\"text-align: right;\">\n",
       "      <th></th>\n",
       "      <th>Attrition</th>\n",
       "      <th>Department</th>\n",
       "      <th>Count_Department</th>\n",
       "    </tr>\n",
       "  </thead>\n",
       "  <tbody>\n",
       "    <tr>\n",
       "      <th>0</th>\n",
       "      <td>No</td>\n",
       "      <td>Human Resources</td>\n",
       "      <td>51</td>\n",
       "    </tr>\n",
       "    <tr>\n",
       "      <th>1</th>\n",
       "      <td>No</td>\n",
       "      <td>Research &amp; Development</td>\n",
       "      <td>828</td>\n",
       "    </tr>\n",
       "    <tr>\n",
       "      <th>2</th>\n",
       "      <td>No</td>\n",
       "      <td>Sales</td>\n",
       "      <td>354</td>\n",
       "    </tr>\n",
       "    <tr>\n",
       "      <th>3</th>\n",
       "      <td>Yes</td>\n",
       "      <td>Human Resources</td>\n",
       "      <td>12</td>\n",
       "    </tr>\n",
       "    <tr>\n",
       "      <th>4</th>\n",
       "      <td>Yes</td>\n",
       "      <td>Research &amp; Development</td>\n",
       "      <td>133</td>\n",
       "    </tr>\n",
       "    <tr>\n",
       "      <th>5</th>\n",
       "      <td>Yes</td>\n",
       "      <td>Sales</td>\n",
       "      <td>92</td>\n",
       "    </tr>\n",
       "  </tbody>\n",
       "</table>\n",
       "</div>"
      ],
      "text/plain": [
       "  Attrition              Department  Count_Department\n",
       "0        No         Human Resources                51\n",
       "1        No  Research & Development               828\n",
       "2        No                   Sales               354\n",
       "3       Yes         Human Resources                12\n",
       "4       Yes  Research & Development               133\n",
       "5       Yes                   Sales                92"
      ]
     },
     "execution_count": 72,
     "metadata": {},
     "output_type": "execute_result"
    }
   ],
   "source": [
    "attrition_department = df.groupby(['Attrition','Department']).size().reset_index(name='Count_Department')\n",
    "#attrition_department['Attrition_by_Department'] = attrition_department['Count_Department'] / total_emp * 100\n",
    "attrition_department"
   ]
  },
  {
   "cell_type": "markdown",
   "id": "b7b7864d-afbc-4e05-b80d-fb056bed7505",
   "metadata": {},
   "source": [
    "The above dataframe created has the count of each department distribution for attrition."
   ]
  },
  {
   "cell_type": "code",
   "execution_count": 73,
   "id": "2d464bda-d1e5-4b90-a2a9-1855e05e5a38",
   "metadata": {},
   "outputs": [],
   "source": [
    "def age_group(age):\n",
    "    if age < 30:\n",
    "        return 'Under 30'\n",
    "    elif age < 40:\n",
    "        return '30-40'\n",
    "    elif age < 50:\n",
    "        return '40-50'\n",
    "    else:\n",
    "        return 'Over 50'\n",
    "\n",
    "df['Age_Group'] = df['Age'].apply(age_group)"
   ]
  },
  {
   "cell_type": "code",
   "execution_count": 74,
   "id": "2e005887-39f2-401e-b740-d4a8ef9828f7",
   "metadata": {},
   "outputs": [
    {
     "data": {
      "text/html": [
       "<div>\n",
       "<style scoped>\n",
       "    .dataframe tbody tr th:only-of-type {\n",
       "        vertical-align: middle;\n",
       "    }\n",
       "\n",
       "    .dataframe tbody tr th {\n",
       "        vertical-align: top;\n",
       "    }\n",
       "\n",
       "    .dataframe thead th {\n",
       "        text-align: right;\n",
       "    }\n",
       "</style>\n",
       "<table border=\"1\" class=\"dataframe\">\n",
       "  <thead>\n",
       "    <tr style=\"text-align: right;\">\n",
       "      <th></th>\n",
       "      <th>Attrition</th>\n",
       "      <th>Age_Group</th>\n",
       "      <th>num</th>\n",
       "      <th>percent_by_age</th>\n",
       "    </tr>\n",
       "  </thead>\n",
       "  <tbody>\n",
       "    <tr>\n",
       "      <th>0</th>\n",
       "      <td>No</td>\n",
       "      <td>30-40</td>\n",
       "      <td>533</td>\n",
       "      <td>36.26</td>\n",
       "    </tr>\n",
       "    <tr>\n",
       "      <th>1</th>\n",
       "      <td>No</td>\n",
       "      <td>40-50</td>\n",
       "      <td>315</td>\n",
       "      <td>21.43</td>\n",
       "    </tr>\n",
       "    <tr>\n",
       "      <th>2</th>\n",
       "      <td>No</td>\n",
       "      <td>Over 50</td>\n",
       "      <td>150</td>\n",
       "      <td>10.20</td>\n",
       "    </tr>\n",
       "    <tr>\n",
       "      <th>3</th>\n",
       "      <td>No</td>\n",
       "      <td>Under 30</td>\n",
       "      <td>235</td>\n",
       "      <td>15.99</td>\n",
       "    </tr>\n",
       "    <tr>\n",
       "      <th>4</th>\n",
       "      <td>Yes</td>\n",
       "      <td>30-40</td>\n",
       "      <td>89</td>\n",
       "      <td>6.05</td>\n",
       "    </tr>\n",
       "    <tr>\n",
       "      <th>5</th>\n",
       "      <td>Yes</td>\n",
       "      <td>40-50</td>\n",
       "      <td>34</td>\n",
       "      <td>2.31</td>\n",
       "    </tr>\n",
       "    <tr>\n",
       "      <th>6</th>\n",
       "      <td>Yes</td>\n",
       "      <td>Over 50</td>\n",
       "      <td>23</td>\n",
       "      <td>1.56</td>\n",
       "    </tr>\n",
       "    <tr>\n",
       "      <th>7</th>\n",
       "      <td>Yes</td>\n",
       "      <td>Under 30</td>\n",
       "      <td>91</td>\n",
       "      <td>6.19</td>\n",
       "    </tr>\n",
       "  </tbody>\n",
       "</table>\n",
       "</div>"
      ],
      "text/plain": [
       "  Attrition Age_Group  num  percent_by_age\n",
       "0        No     30-40  533           36.26\n",
       "1        No     40-50  315           21.43\n",
       "2        No   Over 50  150           10.20\n",
       "3        No  Under 30  235           15.99\n",
       "4       Yes     30-40   89            6.05\n",
       "5       Yes     40-50   34            2.31\n",
       "6       Yes   Over 50   23            1.56\n",
       "7       Yes  Under 30   91            6.19"
      ]
     },
     "execution_count": 74,
     "metadata": {},
     "output_type": "execute_result"
    }
   ],
   "source": [
    "attrition_agegroup = df.groupby(['Attrition','Age_Group']).size().reset_index(name='num')\n",
    "attrition_agegroup['percent_by_age'] = round(attrition_agegroup['num'] / total_emp * 100,2)\n",
    "attrition_agegroup"
   ]
  },
  {
   "cell_type": "markdown",
   "id": "6b5c7e85-5c2d-4972-8120-6ba47b89209c",
   "metadata": {},
   "source": [
    "The above dataframe shows us the percentage of each age group in the each attrition category."
   ]
  },
  {
   "cell_type": "code",
   "execution_count": 75,
   "id": "de264a8f-ea9c-41a9-8ee2-ac14bc971a27",
   "metadata": {},
   "outputs": [
    {
     "data": {
      "text/plain": [
       "0        6\n",
       "1       10\n",
       "2        0\n",
       "3        8\n",
       "4        2\n",
       "        ..\n",
       "1465     5\n",
       "1466     7\n",
       "1467     6\n",
       "1468     9\n",
       "1469     4\n",
       "Name: YearsAtCompany, Length: 1470, dtype: int64"
      ]
     },
     "execution_count": 75,
     "metadata": {},
     "output_type": "execute_result"
    }
   ],
   "source": [
    "df['YearsAtCompany']"
   ]
  },
  {
   "cell_type": "code",
   "execution_count": 76,
   "id": "0f85ef71-dba9-41b4-807d-a603410ca718",
   "metadata": {},
   "outputs": [],
   "source": [
    "def tenure(Years):\n",
    "    if Years < 2:\n",
    "        return 'New Hires'\n",
    "    elif Years <= 5 and Years >= 2:\n",
    "        return '2-5 Years'\n",
    "    elif Years <= 10 and Years >= 6:\n",
    "        return '6-10 Years'\n",
    "    elif Years <= 20 and Years >= 11:\n",
    "        return '11-20 Years'\n",
    "    else:\n",
    "        return 'Over 20'\n",
    "\n",
    "df['Tenure'] = df['YearsAtCompany'].apply(tenure)"
   ]
  },
  {
   "cell_type": "code",
   "execution_count": 77,
   "id": "8cc1db14-06e3-4cb3-83c6-d82b24e42475",
   "metadata": {},
   "outputs": [],
   "source": [
    "#attrition_tenure = df[df['Attrition'] == True]\n",
    "attrition_tenure = df.groupby(['Attrition','Tenure']).size().reset_index(name='num')\n",
    "attrition_tenure['percent'] = round(attrition_tenure['num'] / total_emp * 100,2)\n",
    "attrition_true = attrition_tenure[attrition_tenure['Attrition'] == 'Yes']"
   ]
  },
  {
   "cell_type": "code",
   "execution_count": 78,
   "id": "fe17a981-c721-48d1-b5c5-9ac59fa2c906",
   "metadata": {},
   "outputs": [
    {
     "data": {
      "text/html": [
       "<div>\n",
       "<style scoped>\n",
       "    .dataframe tbody tr th:only-of-type {\n",
       "        vertical-align: middle;\n",
       "    }\n",
       "\n",
       "    .dataframe tbody tr th {\n",
       "        vertical-align: top;\n",
       "    }\n",
       "\n",
       "    .dataframe thead th {\n",
       "        text-align: right;\n",
       "    }\n",
       "</style>\n",
       "<table border=\"1\" class=\"dataframe\">\n",
       "  <thead>\n",
       "    <tr style=\"text-align: right;\">\n",
       "      <th></th>\n",
       "      <th>Attrition</th>\n",
       "      <th>Tenure</th>\n",
       "      <th>num</th>\n",
       "      <th>percent</th>\n",
       "    </tr>\n",
       "  </thead>\n",
       "  <tbody>\n",
       "    <tr>\n",
       "      <th>5</th>\n",
       "      <td>Yes</td>\n",
       "      <td>11-20 Years</td>\n",
       "      <td>12</td>\n",
       "      <td>0.82</td>\n",
       "    </tr>\n",
       "    <tr>\n",
       "      <th>6</th>\n",
       "      <td>Yes</td>\n",
       "      <td>2-5 Years</td>\n",
       "      <td>87</td>\n",
       "      <td>5.92</td>\n",
       "    </tr>\n",
       "    <tr>\n",
       "      <th>7</th>\n",
       "      <td>Yes</td>\n",
       "      <td>6-10 Years</td>\n",
       "      <td>55</td>\n",
       "      <td>3.74</td>\n",
       "    </tr>\n",
       "    <tr>\n",
       "      <th>8</th>\n",
       "      <td>Yes</td>\n",
       "      <td>New Hires</td>\n",
       "      <td>75</td>\n",
       "      <td>5.10</td>\n",
       "    </tr>\n",
       "    <tr>\n",
       "      <th>9</th>\n",
       "      <td>Yes</td>\n",
       "      <td>Over 20</td>\n",
       "      <td>8</td>\n",
       "      <td>0.54</td>\n",
       "    </tr>\n",
       "  </tbody>\n",
       "</table>\n",
       "</div>"
      ],
      "text/plain": [
       "  Attrition       Tenure  num  percent\n",
       "5       Yes  11-20 Years   12     0.82\n",
       "6       Yes    2-5 Years   87     5.92\n",
       "7       Yes   6-10 Years   55     3.74\n",
       "8       Yes    New Hires   75     5.10\n",
       "9       Yes      Over 20    8     0.54"
      ]
     },
     "execution_count": 78,
     "metadata": {},
     "output_type": "execute_result"
    }
   ],
   "source": [
    "attrition_true"
   ]
  },
  {
   "cell_type": "markdown",
   "id": "0b31a1ae-6c5f-49eb-8eb7-6ca37a01bf6b",
   "metadata": {},
   "source": [
    "The above dataframe shows us the number and percentage of total employees who falls in a specific tenure of working with the company and has the attrition value as True."
   ]
  },
  {
   "cell_type": "code",
   "execution_count": 121,
   "id": "74523a3b-0996-44bc-b083-204ce48545c8",
   "metadata": {},
   "outputs": [],
   "source": [
    "import sqlite3"
   ]
  },
  {
   "cell_type": "code",
   "execution_count": 122,
   "id": "0fad7a58-2c03-4610-bdd7-dc82726838aa",
   "metadata": {},
   "outputs": [],
   "source": [
    "df_sql = pd.read_csv(\"SQL_Capstone2.csv\")"
   ]
  },
  {
   "cell_type": "code",
   "execution_count": 123,
   "id": "acde5d28-0674-403e-bfa6-b92bc8c70a18",
   "metadata": {},
   "outputs": [
    {
     "name": "stdout",
     "output_type": "stream",
     "text": [
      "Available tables: [('company_data',), ('hr_data',)]\n"
     ]
    }
   ],
   "source": [
    "import sqlite3\n",
    "import pandas as pd\n",
    "\n",
    "conn = sqlite3.connect(\"hr_data.db\")\n",
    "df_sql.to_sql(name='hr_data',con=conn,if_exists='replace',index=False)\n",
    "cursor = conn.cursor()\n",
    "cursor.execute(\"SELECT name FROM sqlite_master WHERE type='table';\")\n",
    "tables = cursor.fetchall()\n",
    "print(\"Available tables:\", tables)\n",
    "conn.close()"
   ]
  },
  {
   "cell_type": "markdown",
   "id": "18c5825a-28c9-4559-bca5-c5d5378bdfdf",
   "metadata": {},
   "source": [
    "Looking fot the avaliable tables in the databses. There are 2 tables. One is Company_data and otehr is hr_data. hr_data is the one that we require."
   ]
  },
  {
   "cell_type": "code",
   "execution_count": 124,
   "id": "13bcd7d0-a07c-4d29-9429-ce2b8f913099",
   "metadata": {},
   "outputs": [
    {
     "name": "stdout",
     "output_type": "stream",
     "text": [
      "[('hr_data',)]\n"
     ]
    }
   ],
   "source": [
    "import sqlite3\n",
    "conn = sqlite3.connect(\"employee_data.db\")\n",
    "cursor = conn.cursor()\n",
    "cursor.execute(\"DROP TABLE IF EXISTS company_data;\")\n",
    "conn.commit()\n",
    "cursor.execute(\"SELECT name FROM sqlite_master WHERE type='table';\")\n",
    "print(cursor.fetchall())\n",
    "conn.close()\n"
   ]
  },
  {
   "cell_type": "markdown",
   "id": "69a172fd-dd19-48ab-940e-cac5cc8fb30a",
   "metadata": {},
   "source": [
    "We dont need company_data so I have deleted the company_data for saving the space."
   ]
  },
  {
   "cell_type": "code",
   "execution_count": 128,
   "id": "c350e74a-6206-42ff-9d69-5f3bc3de65a4",
   "metadata": {},
   "outputs": [
    {
     "name": "stdout",
     "output_type": "stream",
     "text": [
      "  age_group                role  wlb  job_sat  total_emp  attr_count  \\\n",
      "0     40-50     Sales Executive    1        4          1           1   \n",
      "1     40-50  Research Scientist    3        2          1           0   \n",
      "\n",
      "   attr_rate  \n",
      "0      100.0  \n",
      "1        0.0  \n"
     ]
    }
   ],
   "source": [
    "conn = sqlite3.connect(\"employee_data.db\")\n",
    "\n",
    "# First query\n",
    "query1 = \"\"\"\n",
    "SELECT \n",
    "    CASE \n",
    "        WHEN Age BETWEEN 40 AND 50 THEN '40-50'\n",
    "        WHEN Age > 50 THEN 'Over 50'\n",
    "    END AS age_group,\n",
    "    JobRole AS role,\n",
    "    WorkLifeBalance AS wlb,\n",
    "    JobSatisfaction AS job_sat,\n",
    "    COUNT(*) AS total_emp,\n",
    "    SUM(CASE WHEN Attrition = 'Yes' THEN 1 ELSE 0 END) AS attr_count,\n",
    "    ROUND(100.0 * SUM(CASE WHEN Attrition = 'Yes' THEN 1 ELSE 0 END) / COUNT(*), 2) AS attr_rate\n",
    "FROM hr_data\n",
    "WHERE Age >= 40\n",
    "GROUP BY age_group, role, wlb, job_sat\n",
    "ORDER BY age_group, attr_rate DESC;\n",
    "\"\"\"\n",
    "\n",
    "df1 = pd.read_sql_query(query1, conn)\n",
    "print(df1)"
   ]
  },
  {
   "cell_type": "markdown",
   "id": "8a13680d-d9c0-462e-830f-21228b25b08b",
   "metadata": {},
   "source": [
    "So, the above query is to fetch the data of employees above 40 who is part of attrition. If you look at the output data there are no employees above 50 who have attrition as true. So, even in the range of 40-50 there are 2 employees. One of them has less work life balance and the otehr has more work life balance. Even thought the employee with higher job satisfaction he was part of attrition. So, that means the work life balance places a important role in  attrition."
   ]
  },
  {
   "cell_type": "code",
   "execution_count": 129,
   "id": "0fb67d53-5d0f-4659-bda7-46b32c5c1f29",
   "metadata": {},
   "outputs": [
    {
     "name": "stdout",
     "output_type": "stream",
     "text": [
      "           IncomeLevel  TotalEmployees  AttritionCount  AttritionRate\n",
      "0  Mid Income (5k-10k)               2               1          50.00\n",
      "1     Low Income (<5k)               3               1          33.33\n"
     ]
    }
   ],
   "source": [
    "conn = sqlite3.connect(\"employee_data.db\")\n",
    "query2 = \"\"\"\n",
    "SELECT \n",
    "    CASE \n",
    "        WHEN MonthlyIncome < 5000 THEN 'Low Income (<5k)'\n",
    "        WHEN MonthlyIncome BETWEEN 5000 AND 10000 THEN 'Mid Income (5k-10k)'\n",
    "        ELSE 'High Income (>10k)'\n",
    "    END AS IncomeLevel,\n",
    "    COUNT(*) AS TotalEmployees,\n",
    "    SUM(CASE WHEN Attrition = 'Yes' THEN 1 ELSE 0 END) AS AttritionCount,\n",
    "    ROUND(100.0 * SUM(CASE WHEN Attrition = 'Yes' THEN 1 ELSE 0 END) / COUNT(*), 2) AS AttritionRate\n",
    "FROM hr_data\n",
    "GROUP BY IncomeLevel\n",
    "ORDER BY AttritionRate DESC;\n",
    "\"\"\"\n",
    "\n",
    "df2 = pd.read_sql_query(query2, conn)\n",
    "print(df2)"
   ]
  },
  {
   "cell_type": "code",
   "execution_count": 131,
   "id": "d146baf5-d40a-4e89-b7c5-f80b5f823769",
   "metadata": {},
   "outputs": [
    {
     "name": "stdout",
     "output_type": "stream",
     "text": [
      "Empty DataFrame\n",
      "Columns: [JobRole, OverTime, WorkLifeBalance, JobSatisfaction, TotalEmployees, AttritionCount]\n",
      "Index: []\n"
     ]
    }
   ],
   "source": [
    "conn = sqlite3.connect(\"employee_data.db\")\n",
    "query3 = \"\"\"\n",
    "SELECT JobRole, OverTime, WorkLifeBalance, JobSatisfaction,\n",
    "       COUNT(*) AS TotalEmployees,\n",
    "       SUM(CASE WHEN Attrition = 'Yes' THEN 1 ELSE 0 END) AS AttritionCount\n",
    "FROM hr_data\n",
    "WHERE MonthlyIncome > 10000\n",
    "GROUP BY JobRole, OverTime, WorkLifeBalance, JobSatisfaction\n",
    "ORDER BY AttritionCount DESC;\n",
    "\"\"\"\n",
    "\n",
    "df3 = pd.read_sql_query(query3, conn)\n",
    "print(df3)"
   ]
  },
  {
   "cell_type": "markdown",
   "id": "9d236d21-ff79-4155-b972-81a725559680",
   "metadata": {},
   "source": [
    "After observing to the outputs of above 2 queries. So, the salary range is playing a vital role in the attrition. In low and mid scaled salary range. There are attrition but not in the high salary range which is 10000+. So, that means if the employees are satified with their salary they are leaving the company."
   ]
  },
  {
   "cell_type": "code",
   "execution_count": 134,
   "id": "9ea2fcdd-927a-4ef3-aecf-ef3439d3e718",
   "metadata": {},
   "outputs": [
    {
     "name": "stdout",
     "output_type": "stream",
     "text": [
      "                 JobRole              Department OverTime  \\\n",
      "0  Laboratory Technician  Research & Development      Yes   \n",
      "1  Laboratory Technician  Research & Development       No   \n",
      "\n",
      "   TrainingTimesLastYear  WorkLifeBalance  TotalEmployees  AttritionCount  \\\n",
      "0                      3                3               1               1   \n",
      "1                      3                3               1               0   \n",
      "\n",
      "   AttritionRate  \n",
      "0          100.0  \n",
      "1            0.0  \n"
     ]
    }
   ],
   "source": [
    "conn = sqlite3.connect(\"employee_data.db\")\n",
    "query4 = \"\"\"\n",
    "SELECT \n",
    "    JobRole,\n",
    "    Department,\n",
    "    OverTime,\n",
    "    TrainingTimesLastYear,\n",
    "    WorkLifeBalance,\n",
    "    COUNT(*) AS TotalEmployees,\n",
    "    SUM(CASE WHEN Attrition = 'Yes' THEN 1 ELSE 0 END) AS AttritionCount,\n",
    "    ROUND(100.0 * SUM(CASE WHEN Attrition = 'Yes' THEN 1 ELSE 0 END) / COUNT(*), 2) AS AttritionRate\n",
    "FROM hr_data\n",
    "WHERE YearsAtCompany < 5\n",
    "GROUP BY JobRole, Department, OverTime, TrainingTimesLastYear, WorkLifeBalance\n",
    "ORDER BY AttritionRate DESC;\n",
    "\"\"\"\n",
    "\n",
    "df4 = pd.read_sql_query(query4, conn)\n",
    "print(df4)\n",
    "\n"
   ]
  },
  {
   "cell_type": "markdown",
   "id": "387a00ae-8bae-482b-9d6c-d83253b747a0",
   "metadata": {},
   "source": [
    "The above query is to check for the employees who have left the company within 5 years arranged by each role, depatment and other features. So the person who is doing overtime has left the compnay within 5 years. So, this means doing overtime they might have been exhausted that made them leave the company."
   ]
  },
  {
   "cell_type": "code",
   "execution_count": null,
   "id": "557abcb0-794a-4c76-bc8b-e5d1675c3a6d",
   "metadata": {},
   "outputs": [],
   "source": []
  }
 ],
 "metadata": {
  "kernelspec": {
   "display_name": "Python 3 (ipykernel)",
   "language": "python",
   "name": "python3"
  },
  "language_info": {
   "codemirror_mode": {
    "name": "ipython",
    "version": 3
   },
   "file_extension": ".py",
   "mimetype": "text/x-python",
   "name": "python",
   "nbconvert_exporter": "python",
   "pygments_lexer": "ipython3",
   "version": "3.13.5"
  }
 },
 "nbformat": 4,
 "nbformat_minor": 5
}
